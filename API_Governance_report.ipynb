{
  "nbformat": 4,
  "nbformat_minor": 0,
  "metadata": {
    "colab": {
      "provenance": []
    },
    "kernelspec": {
      "name": "python3",
      "display_name": "Python 3 (ipykernel)",
      "language": "python"
    },
    "language_info": {
      "name": "python"
    }
  },
  "cells": [
    {
      "cell_type": "markdown",
      "source": [
        "# Analyzing, found errors based on **OWASP, OAS** traced by ***Spectral***"
      ],
      "metadata": {
        "id": "Cg95jzfq7VJA"
      }
    },
    {
      "metadata": {
        "id": "5nWriE-9Ivty"
      },
      "cell_type": "markdown",
      "source": [
        "## Read and Explore"
      ]
    },
    {
      "cell_type": "code",
      "metadata": {
        "id": "55svsXY3fyYa",
        "ExecuteTime": {
          "end_time": "2024-10-17T06:12:48.564728Z",
          "start_time": "2024-10-17T06:12:48.505132Z"
        }
      },
      "source": [
        "import pandas as pd\n",
        "\n",
        "df = pd.read_json('error_openapi_my_ruleset_f.json')"
      ],
      "outputs": [],
      "execution_count": null
    },
    {
      "metadata": {
        "ExecuteTime": {
          "end_time": "2024-10-17T06:12:48.578270Z",
          "start_time": "2024-10-17T06:12:48.572741Z"
        },
        "id": "ZETzjsRAIvtz",
        "outputId": "557f3618-ad84-46e0-c085-eb498dff2445"
      },
      "cell_type": "code",
      "source": [
        "df.columns"
      ],
      "outputs": [
        {
          "data": {
            "text/plain": [
              "Index(['code', 'path', 'message', 'severity', 'range', 'source'], dtype='object')"
            ]
          },
          "execution_count": 2,
          "metadata": {},
          "output_type": "execute_result"
        }
      ],
      "execution_count": null
    },
    {
      "cell_type": "code",
      "source": [
        "df = df.drop('source', axis=1)  # remove file:'source'"
      ],
      "metadata": {
        "id": "8YgRenpNhwHG",
        "ExecuteTime": {
          "end_time": "2024-10-17T06:12:48.878481Z",
          "start_time": "2024-10-17T06:12:48.873181Z"
        }
      },
      "outputs": [],
      "execution_count": null
    },
    {
      "metadata": {
        "ExecuteTime": {
          "end_time": "2024-10-17T06:12:48.889859Z",
          "start_time": "2024-10-17T06:12:48.886106Z"
        },
        "id": "jGIx8y9YIvt1"
      },
      "cell_type": "code",
      "source": [
        "df = df[['code', 'severity', 'message', 'path', 'range']]"
      ],
      "outputs": [],
      "execution_count": null
    },
    {
      "metadata": {
        "colab": {
          "base_uri": "https://localhost:8080/",
          "height": 293
        },
        "id": "goQ6YJgogujC",
        "outputId": "1dab323c-fa42-4344-8c2c-01a6e72334b9",
        "ExecuteTime": {
          "end_time": "2024-10-17T06:12:48.906321Z",
          "start_time": "2024-10-17T06:12:48.897384Z"
        }
      },
      "cell_type": "code",
      "source": [
        "df.head()"
      ],
      "outputs": [
        {
          "data": {
            "text/plain": [
              "                                code  severity  \\\n",
              "0                   oas3-api-servers         1   \n",
              "1              operation-operationId         1   \n",
              "2              operation-tag-defined         1   \n",
              "3       owasp:api4:2023-string-limit         0   \n",
              "4  owasp:api4:2023-string-restricted         1   \n",
              "\n",
              "                                             message  \\\n",
              "0  OpenAPI \"servers\" must be present and non-empt...   \n",
              "1                 Operation must have \"operationId\".   \n",
              "2     Operation tags must be defined in global tags.   \n",
              "3  Schema of type string must specify maxLength, ...   \n",
              "4  Schema of type string should specify a format,...   \n",
              "\n",
              "                                                path  \\\n",
              "0                                                 []   \n",
              "1                      [paths, /connect/token, post]   \n",
              "2             [paths, /connect/token, post, tags, 0]   \n",
              "3  [paths, /connect/token, post, requestBody, con...   \n",
              "4  [paths, /connect/token, post, requestBody, con...   \n",
              "\n",
              "                                               range  \n",
              "0  {'start': {'line': 0, 'character': 0}, 'end': ...  \n",
              "1  {'start': {'line': 17, 'character': 9}, 'end':...  \n",
              "2  {'start': {'line': 19, 'character': 10}, 'end'...  \n",
              "3  {'start': {'line': 28, 'character': 27}, 'end'...  \n",
              "4  {'start': {'line': 28, 'character': 27}, 'end'...  "
            ],
            "text/html": [
              "<div>\n",
              "<style scoped>\n",
              "    .dataframe tbody tr th:only-of-type {\n",
              "        vertical-align: middle;\n",
              "    }\n",
              "\n",
              "    .dataframe tbody tr th {\n",
              "        vertical-align: top;\n",
              "    }\n",
              "\n",
              "    .dataframe thead th {\n",
              "        text-align: right;\n",
              "    }\n",
              "</style>\n",
              "<table border=\"1\" class=\"dataframe\">\n",
              "  <thead>\n",
              "    <tr style=\"text-align: right;\">\n",
              "      <th></th>\n",
              "      <th>code</th>\n",
              "      <th>severity</th>\n",
              "      <th>message</th>\n",
              "      <th>path</th>\n",
              "      <th>range</th>\n",
              "    </tr>\n",
              "  </thead>\n",
              "  <tbody>\n",
              "    <tr>\n",
              "      <th>0</th>\n",
              "      <td>oas3-api-servers</td>\n",
              "      <td>1</td>\n",
              "      <td>OpenAPI \"servers\" must be present and non-empt...</td>\n",
              "      <td>[]</td>\n",
              "      <td>{'start': {'line': 0, 'character': 0}, 'end': ...</td>\n",
              "    </tr>\n",
              "    <tr>\n",
              "      <th>1</th>\n",
              "      <td>operation-operationId</td>\n",
              "      <td>1</td>\n",
              "      <td>Operation must have \"operationId\".</td>\n",
              "      <td>[paths, /connect/token, post]</td>\n",
              "      <td>{'start': {'line': 17, 'character': 9}, 'end':...</td>\n",
              "    </tr>\n",
              "    <tr>\n",
              "      <th>2</th>\n",
              "      <td>operation-tag-defined</td>\n",
              "      <td>1</td>\n",
              "      <td>Operation tags must be defined in global tags.</td>\n",
              "      <td>[paths, /connect/token, post, tags, 0]</td>\n",
              "      <td>{'start': {'line': 19, 'character': 10}, 'end'...</td>\n",
              "    </tr>\n",
              "    <tr>\n",
              "      <th>3</th>\n",
              "      <td>owasp:api4:2023-string-limit</td>\n",
              "      <td>0</td>\n",
              "      <td>Schema of type string must specify maxLength, ...</td>\n",
              "      <td>[paths, /connect/token, post, requestBody, con...</td>\n",
              "      <td>{'start': {'line': 28, 'character': 27}, 'end'...</td>\n",
              "    </tr>\n",
              "    <tr>\n",
              "      <th>4</th>\n",
              "      <td>owasp:api4:2023-string-restricted</td>\n",
              "      <td>1</td>\n",
              "      <td>Schema of type string should specify a format,...</td>\n",
              "      <td>[paths, /connect/token, post, requestBody, con...</td>\n",
              "      <td>{'start': {'line': 28, 'character': 27}, 'end'...</td>\n",
              "    </tr>\n",
              "  </tbody>\n",
              "</table>\n",
              "</div>"
            ]
          },
          "execution_count": 5,
          "metadata": {},
          "output_type": "execute_result"
        }
      ],
      "execution_count": null
    },
    {
      "metadata": {
        "id": "sd1P8YILIvt1"
      },
      "cell_type": "markdown",
      "source": [
        "## Assign Severity Code & targetted standards"
      ]
    },
    {
      "metadata": {
        "id": "BxhDwIdcg-Ip",
        "ExecuteTime": {
          "end_time": "2024-10-17T06:12:48.955148Z",
          "start_time": "2024-10-17T06:12:48.952854Z"
        }
      },
      "cell_type": "code",
      "source": [
        "severity = {  # Error Codes\n",
        "    \"error\": 0,\n",
        "    \"warning\": 1,\n",
        "    \"infos\": 2,\n",
        "    \"hints\": 3\n",
        "}\n",
        "standards = {'oas': 0, 'owasp': 0, 'onepoint': 0, 'others': 0}  # Planned"
      ],
      "outputs": [],
      "execution_count": null
    },
    {
      "metadata": {
        "id": "5Ege5sueh9Ih",
        "ExecuteTime": {
          "end_time": "2024-10-17T06:12:48.980271Z",
          "start_time": "2024-10-17T06:12:48.974155Z"
        }
      },
      "cell_type": "code",
      "source": [
        "df['severity'] = df['severity'].map({0: 'error', 1: 'warning', 2: 'infos', 3: 'hints'})"
      ],
      "outputs": [],
      "execution_count": null
    },
    {
      "metadata": {
        "ExecuteTime": {
          "end_time": "2024-10-17T06:12:49.069121Z",
          "start_time": "2024-10-17T06:12:49.062391Z"
        },
        "id": "dxTk50TUIvt2",
        "outputId": "931a68b3-7ad4-4176-9da5-082cb9820f95"
      },
      "cell_type": "code",
      "source": [
        "df.head()"
      ],
      "outputs": [
        {
          "data": {
            "text/plain": [
              "                                code severity  \\\n",
              "0                   oas3-api-servers  warning   \n",
              "1              operation-operationId  warning   \n",
              "2              operation-tag-defined  warning   \n",
              "3       owasp:api4:2023-string-limit    error   \n",
              "4  owasp:api4:2023-string-restricted  warning   \n",
              "\n",
              "                                             message  \\\n",
              "0  OpenAPI \"servers\" must be present and non-empt...   \n",
              "1                 Operation must have \"operationId\".   \n",
              "2     Operation tags must be defined in global tags.   \n",
              "3  Schema of type string must specify maxLength, ...   \n",
              "4  Schema of type string should specify a format,...   \n",
              "\n",
              "                                                path  \\\n",
              "0                                                 []   \n",
              "1                      [paths, /connect/token, post]   \n",
              "2             [paths, /connect/token, post, tags, 0]   \n",
              "3  [paths, /connect/token, post, requestBody, con...   \n",
              "4  [paths, /connect/token, post, requestBody, con...   \n",
              "\n",
              "                                               range  \n",
              "0  {'start': {'line': 0, 'character': 0}, 'end': ...  \n",
              "1  {'start': {'line': 17, 'character': 9}, 'end':...  \n",
              "2  {'start': {'line': 19, 'character': 10}, 'end'...  \n",
              "3  {'start': {'line': 28, 'character': 27}, 'end'...  \n",
              "4  {'start': {'line': 28, 'character': 27}, 'end'...  "
            ],
            "text/html": [
              "<div>\n",
              "<style scoped>\n",
              "    .dataframe tbody tr th:only-of-type {\n",
              "        vertical-align: middle;\n",
              "    }\n",
              "\n",
              "    .dataframe tbody tr th {\n",
              "        vertical-align: top;\n",
              "    }\n",
              "\n",
              "    .dataframe thead th {\n",
              "        text-align: right;\n",
              "    }\n",
              "</style>\n",
              "<table border=\"1\" class=\"dataframe\">\n",
              "  <thead>\n",
              "    <tr style=\"text-align: right;\">\n",
              "      <th></th>\n",
              "      <th>code</th>\n",
              "      <th>severity</th>\n",
              "      <th>message</th>\n",
              "      <th>path</th>\n",
              "      <th>range</th>\n",
              "    </tr>\n",
              "  </thead>\n",
              "  <tbody>\n",
              "    <tr>\n",
              "      <th>0</th>\n",
              "      <td>oas3-api-servers</td>\n",
              "      <td>warning</td>\n",
              "      <td>OpenAPI \"servers\" must be present and non-empt...</td>\n",
              "      <td>[]</td>\n",
              "      <td>{'start': {'line': 0, 'character': 0}, 'end': ...</td>\n",
              "    </tr>\n",
              "    <tr>\n",
              "      <th>1</th>\n",
              "      <td>operation-operationId</td>\n",
              "      <td>warning</td>\n",
              "      <td>Operation must have \"operationId\".</td>\n",
              "      <td>[paths, /connect/token, post]</td>\n",
              "      <td>{'start': {'line': 17, 'character': 9}, 'end':...</td>\n",
              "    </tr>\n",
              "    <tr>\n",
              "      <th>2</th>\n",
              "      <td>operation-tag-defined</td>\n",
              "      <td>warning</td>\n",
              "      <td>Operation tags must be defined in global tags.</td>\n",
              "      <td>[paths, /connect/token, post, tags, 0]</td>\n",
              "      <td>{'start': {'line': 19, 'character': 10}, 'end'...</td>\n",
              "    </tr>\n",
              "    <tr>\n",
              "      <th>3</th>\n",
              "      <td>owasp:api4:2023-string-limit</td>\n",
              "      <td>error</td>\n",
              "      <td>Schema of type string must specify maxLength, ...</td>\n",
              "      <td>[paths, /connect/token, post, requestBody, con...</td>\n",
              "      <td>{'start': {'line': 28, 'character': 27}, 'end'...</td>\n",
              "    </tr>\n",
              "    <tr>\n",
              "      <th>4</th>\n",
              "      <td>owasp:api4:2023-string-restricted</td>\n",
              "      <td>warning</td>\n",
              "      <td>Schema of type string should specify a format,...</td>\n",
              "      <td>[paths, /connect/token, post, requestBody, con...</td>\n",
              "      <td>{'start': {'line': 28, 'character': 27}, 'end'...</td>\n",
              "    </tr>\n",
              "  </tbody>\n",
              "</table>\n",
              "</div>"
            ]
          },
          "execution_count": 8,
          "metadata": {},
          "output_type": "execute_result"
        }
      ],
      "execution_count": null
    },
    {
      "cell_type": "markdown",
      "source": [
        "## Error Codes (OWASP, OAS, ..) with count https://owasp.org/Top10/\n",
        "### Total Codes, Total Severities"
      ],
      "metadata": {
        "id": "4AIE00UV7PMn"
      }
    },
    {
      "cell_type": "code",
      "source": [
        "df['code'].value_counts()  # https://owasp.org/Top10/"
      ],
      "metadata": {
        "colab": {
          "base_uri": "https://localhost:8080/",
          "height": 554
        },
        "id": "ZFlUrWPZ42A3",
        "outputId": "1a57f072-7b92-42b3-da71-a954339a7de4",
        "ExecuteTime": {
          "end_time": "2024-10-17T06:12:49.163403Z",
          "start_time": "2024-10-17T06:12:49.157164Z"
        }
      },
      "outputs": [
        {
          "data": {
            "text/plain": [
              "code\n",
              "owasp:api4:2023-string-limit                  17\n",
              "owasp:api4:2023-integer-limit                 16\n",
              "owasp:api4:2023-string-restricted             14\n",
              "owasp:api4:2023-rate-limit-responses-429      10\n",
              "owasp:api8:2023-define-error-responses-401    10\n",
              "owasp:api8:2023-define-error-responses-500    10\n",
              "owasp:api4:2023-rate-limit                     5\n",
              "operation-tag-defined                          5\n",
              "operation-operationId                          5\n",
              "owasp:api8:2023-define-error-validation        5\n",
              "owasp:api4:2023-array-limit                    5\n",
              "owasp:api1:2023-no-numeric-ids                 2\n",
              "oas3-valid-schema-example                      2\n",
              "oas3-api-servers                               1\n",
              "Name: count, dtype: int64"
            ]
          },
          "execution_count": 9,
          "metadata": {},
          "output_type": "execute_result"
        }
      ],
      "execution_count": null
    },
    {
      "metadata": {
        "ExecuteTime": {
          "end_time": "2024-10-17T06:12:49.322426Z",
          "start_time": "2024-10-17T06:12:49.317851Z"
        },
        "id": "sGl7iVniIvt2",
        "outputId": "3c4d88bd-06c5-4ef2-ef7e-0f4888394064"
      },
      "cell_type": "code",
      "source": [
        "df['severity'].value_counts()"
      ],
      "outputs": [
        {
          "data": {
            "text/plain": [
              "severity\n",
              "warning    60\n",
              "error      47\n",
              "Name: count, dtype: int64"
            ]
          },
          "execution_count": 10,
          "metadata": {},
          "output_type": "execute_result"
        }
      ],
      "execution_count": null
    },
    {
      "cell_type": "markdown",
      "source": [
        "## Severity Count (Error, Warning, Infos, Hints)"
      ],
      "metadata": {
        "id": "1AtmFkIQ7ER_"
      }
    },
    {
      "metadata": {
        "ExecuteTime": {
          "end_time": "2024-10-17T06:12:49.535449Z",
          "start_time": "2024-10-17T06:12:49.531232Z"
        },
        "id": "WzWIseHRIvt2",
        "outputId": "36ad6065-4ee6-46c0-a3dd-7f049953de67"
      },
      "cell_type": "code",
      "source": [
        "total_rows = len(df.code)\n",
        "total_codes_unique = len(df['code'].unique())\n",
        "total_severities_unique = len(df['severity'].unique())\n",
        "# unique severity\n",
        "print(total_rows, total_codes_unique, total_severities_unique)"
      ],
      "outputs": [
        {
          "name": "stdout",
          "output_type": "stream",
          "text": [
            "107 14 2\n"
          ]
        }
      ],
      "execution_count": null
    },
    {
      "metadata": {
        "ExecuteTime": {
          "end_time": "2024-10-17T06:12:49.689977Z",
          "start_time": "2024-10-17T06:12:49.686223Z"
        },
        "id": "6R9YiYltIvt2",
        "outputId": "fd38f078-a3fd-4218-8dbf-8f77254c57d0"
      },
      "cell_type": "code",
      "source": [
        "dict_severity = df['severity'].value_counts().to_dict()\n",
        "print(dict_severity.keys())"
      ],
      "outputs": [
        {
          "name": "stdout",
          "output_type": "stream",
          "text": [
            "dict_keys(['warning', 'error'])\n"
          ]
        }
      ],
      "execution_count": null
    },
    {
      "metadata": {
        "ExecuteTime": {
          "end_time": "2024-10-17T06:12:49.854699Z",
          "start_time": "2024-10-17T06:12:49.851057Z"
        },
        "id": "_0DypQqHIvt3",
        "outputId": "6f9fa8b9-5db4-41f0-fa28-3525c480a711"
      },
      "cell_type": "code",
      "source": [
        "# Severity default is already defined\n",
        "errors = dict_severity.get('error', 0)\n",
        "warnings = dict_severity.get('warning', 0)\n",
        "infos = dict_severity.get('infos', 0)\n",
        "hints = dict_severity.get('hints', 0)\n",
        "print(errors, warnings, infos, hints)"
      ],
      "outputs": [
        {
          "name": "stdout",
          "output_type": "stream",
          "text": [
            "47 60 0 0\n"
          ]
        }
      ],
      "execution_count": null
    },
    {
      "metadata": {
        "ExecuteTime": {
          "end_time": "2024-10-17T06:12:49.938845Z",
          "start_time": "2024-10-17T06:12:49.935966Z"
        },
        "id": "3GR8lYGoIvt3"
      },
      "cell_type": "code",
      "source": [
        "oas, oas_warning, oas_error, oas_hints, oas_infos = 0, 0, 0, 0, 0  # initial raw values\n",
        "owasp, owasp_warning, owasp_error, owasp_hints, owasp_infos = 0, 0, 0, 0, 0\n",
        "onepoint, onepoint_warning, onepoint_error, onepoint_hints, onepoint_infos = 0, 0, 0, 0, 0\n",
        "others, others_warning, others_error, others_hints, others_infos = 0, 0, 0, 0, 0"
      ],
      "outputs": [],
      "execution_count": null
    },
    {
      "metadata": {
        "ExecuteTime": {
          "end_time": "2024-10-17T06:12:49.970691Z",
          "start_time": "2024-10-17T06:12:49.966793Z"
        },
        "id": "keYBM-yNIvt3"
      },
      "cell_type": "code",
      "source": [
        "standard_table = df[['code', 'severity']]"
      ],
      "outputs": [],
      "execution_count": null
    },
    {
      "metadata": {
        "ExecuteTime": {
          "end_time": "2024-10-17T06:12:50.000219Z",
          "start_time": "2024-10-17T06:12:49.996216Z"
        },
        "id": "fbL5NxSwIvt3"
      },
      "cell_type": "code",
      "source": [
        "def count_standards_length(code, pattern):\n",
        "    return standard_table[\n",
        "        (standard_table['severity'].str.contains(pattern, case=False)) &\n",
        "        (standard_table['code'].str.contains(code, case=False))\n",
        "        ]\n"
      ],
      "outputs": [],
      "execution_count": null
    },
    {
      "metadata": {
        "ExecuteTime": {
          "end_time": "2024-10-17T06:12:50.027508Z",
          "start_time": "2024-10-17T06:12:50.020687Z"
        },
        "id": "xZU-pmpfIvt3"
      },
      "cell_type": "code",
      "source": [
        "if errors > 0:\n",
        "    oas_error = len(count_standards_length('oas', 'error'))\n",
        "    owasp_error = len(count_standards_length('owasp', 'error'))\n",
        "    onepoint_error = len(count_standards_length('onepoint', 'error'))\n",
        "    other_error = len(count_standards_length('operation', 'error'))\n",
        "\n",
        "if warnings > 0:\n",
        "    oas_warning = len(count_standards_length('oas', 'warning'))\n",
        "    owasp_warning = len(count_standards_length('owasp', 'warning'))\n",
        "    onepoint_warning = len(count_standards_length('onepoint', 'warning'))\n",
        "    others_warning = len(count_standards_length('operation', 'warning'))\n",
        "\n",
        "if infos > 0:\n",
        "    oas_infos = len(count_standards_length('oas', 'infos'))\n",
        "    owasp_infos = len(count_standards_length('owasp', 'infos'))\n",
        "    onepoint_infos = len(count_standards_length('onepoint', 'infos'))\n",
        "    others_infos = len(count_standards_length('operation', 'infos'))\n",
        "\n",
        "if hints > 0:\n",
        "    oas_hints = len(count_standards_length('oas', 'hints'))\n",
        "    owasp_hints = len(count_standards_length('owasp', 'hints'))\n",
        "    onepoint_hints = len(count_standards_length('onepoint', 'hints'))\n",
        "    others_hints = len(count_standards_length('operation', 'hints'))\n",
        "\n",
        "standard_non_compliance = (oas + owasp + others + onepoint)"
      ],
      "outputs": [],
      "execution_count": null
    },
    {
      "metadata": {
        "ExecuteTime": {
          "end_time": "2024-10-17T06:12:50.046684Z",
          "start_time": "2024-10-17T06:12:50.041515Z"
        },
        "id": "DA5EVgXeIvt3"
      },
      "cell_type": "code",
      "source": [
        "final = {}\n",
        "final['total_issues'] = total_rows\n",
        "\n",
        "final['total_errors'] = errors\n",
        "final['total_warnings'] = warnings\n",
        "final['total_hints'] = hints\n",
        "final['total_infos'] = infos\n",
        "\n",
        "final['standard_non_compliance'] = {}\n",
        "\n",
        "final['standard_non_compliance']['oas'] = {}\n",
        "final['standard_non_compliance']['oas']['total'] = (oas_error + oas_warning + oas_infos + oas_hints)\n",
        "final['standard_non_compliance']['oas']['error'] = oas_error\n",
        "final['standard_non_compliance']['oas']['warning'] = oas_warning\n",
        "final['standard_non_compliance']['oas']['infos'] = oas_infos\n",
        "final['standard_non_compliance']['oas']['hints'] = oas_hints\n",
        "\n",
        "final['standard_non_compliance']['owasp'] = {}\n",
        "final['standard_non_compliance']['owasp']['total'] = (owasp_error + owasp_warning + owasp_hints + owasp_infos)\n",
        "final['standard_non_compliance']['owasp']['error'] = owasp_error\n",
        "final['standard_non_compliance']['owasp']['warning'] = owasp_warning\n",
        "final['standard_non_compliance']['owasp']['infos'] = owasp_infos\n",
        "final['standard_non_compliance']['owasp']['hints'] = owasp_hints\n",
        "\n",
        "final['standard_non_compliance']['onepoint'] = {}\n",
        "final['standard_non_compliance']['onepoint']['total'] = (\n",
        "        onepoint_error + onepoint_warning + onepoint_hints + onepoint_infos)\n",
        "final['standard_non_compliance']['onepoint']['error'] = onepoint_error\n",
        "final['standard_non_compliance']['onepoint']['warning'] = onepoint_warning\n",
        "final['standard_non_compliance']['onepoint']['infos'] = onepoint_infos\n",
        "final['standard_non_compliance']['onepoint']['hints'] = onepoint_hints\n",
        "\n",
        "final['standard_non_compliance']['others'] = {}\n",
        "final['standard_non_compliance']['others']['total'] = (others_error + others_warning + others_hints + others_infos)\n",
        "final['standard_non_compliance']['others']['error'] = others_error\n",
        "final['standard_non_compliance']['others']['warning'] = others_warning\n",
        "final['standard_non_compliance']['others']['infos'] = others_infos\n",
        "final['standard_non_compliance']['others']['hints'] = others_hints\n",
        "\n",
        "final['standard_non_compliance']['total'] = final['standard_non_compliance']['oas']['total'] + \\\n",
        "                                            final['standard_non_compliance']['owasp']['total']\n"
      ],
      "outputs": [],
      "execution_count": null
    },
    {
      "metadata": {
        "ExecuteTime": {
          "end_time": "2024-10-17T06:12:50.059304Z",
          "start_time": "2024-10-17T06:12:50.056447Z"
        },
        "id": "X1S9MvRiIvt3",
        "outputId": "985da92f-e190-4cb0-f20b-47ac902bf139"
      },
      "cell_type": "code",
      "source": [
        "type(final)"
      ],
      "outputs": [
        {
          "data": {
            "text/plain": [
              "dict"
            ]
          },
          "execution_count": 19,
          "metadata": {},
          "output_type": "execute_result"
        }
      ],
      "execution_count": null
    },
    {
      "metadata": {
        "ExecuteTime": {
          "end_time": "2024-10-17T06:12:50.110959Z",
          "start_time": "2024-10-17T06:12:50.105934Z"
        },
        "id": "KMTOj4AVIvt3",
        "outputId": "d5952b43-c067-4fd2-fe34-d91d3e305804"
      },
      "cell_type": "code",
      "source": [
        "final"
      ],
      "outputs": [
        {
          "data": {
            "text/plain": [
              "{'total_issues': 107,\n",
              " 'total_errors': 47,\n",
              " 'total_warnings': 60,\n",
              " 'total_hints': 0,\n",
              " 'total_infos': 0,\n",
              " 'standard_non_compliance': {'oas': {'total': 3,\n",
              "   'error': 2,\n",
              "   'warning': 1,\n",
              "   'infos': 0,\n",
              "   'hints': 0},\n",
              "  'owasp': {'total': 94, 'error': 45, 'warning': 49, 'infos': 0, 'hints': 0},\n",
              "  'onepoint': {'total': 0, 'error': 0, 'warning': 0, 'infos': 0, 'hints': 0},\n",
              "  'others': {'total': 10, 'error': 0, 'warning': 10, 'infos': 0, 'hints': 0},\n",
              "  'total': 97}}"
            ]
          },
          "execution_count": 20,
          "metadata": {},
          "output_type": "execute_result"
        }
      ],
      "execution_count": null
    },
    {
      "metadata": {
        "ExecuteTime": {
          "end_time": "2024-10-17T06:12:50.172618Z",
          "start_time": "2024-10-17T06:12:50.169740Z"
        },
        "id": "-8vvoHtvIvt3"
      },
      "cell_type": "code",
      "source": [
        "plotData = pd.DataFrame(\n",
        "    [final['total_errors'], final['total_warnings'], final['total_hints'], final['total_infos']],\n",
        "    columns=['Issues'],\n",
        "    index=['Errors', 'Warnings', 'Hints', 'Infos'])"
      ],
      "outputs": [],
      "execution_count": null
    },
    {
      "metadata": {
        "ExecuteTime": {
          "end_time": "2024-10-17T06:12:50.203838Z",
          "start_time": "2024-10-17T06:12:50.199575Z"
        },
        "id": "BN8FfVuBIvt3",
        "outputId": "884fb1a4-a080-4507-a7a7-4cec55db952c"
      },
      "cell_type": "code",
      "source": [
        "plotData"
      ],
      "outputs": [
        {
          "data": {
            "text/plain": [
              "          Issues\n",
              "Errors        47\n",
              "Warnings      60\n",
              "Hints          0\n",
              "Infos          0"
            ],
            "text/html": [
              "<div>\n",
              "<style scoped>\n",
              "    .dataframe tbody tr th:only-of-type {\n",
              "        vertical-align: middle;\n",
              "    }\n",
              "\n",
              "    .dataframe tbody tr th {\n",
              "        vertical-align: top;\n",
              "    }\n",
              "\n",
              "    .dataframe thead th {\n",
              "        text-align: right;\n",
              "    }\n",
              "</style>\n",
              "<table border=\"1\" class=\"dataframe\">\n",
              "  <thead>\n",
              "    <tr style=\"text-align: right;\">\n",
              "      <th></th>\n",
              "      <th>Issues</th>\n",
              "    </tr>\n",
              "  </thead>\n",
              "  <tbody>\n",
              "    <tr>\n",
              "      <th>Errors</th>\n",
              "      <td>47</td>\n",
              "    </tr>\n",
              "    <tr>\n",
              "      <th>Warnings</th>\n",
              "      <td>60</td>\n",
              "    </tr>\n",
              "    <tr>\n",
              "      <th>Hints</th>\n",
              "      <td>0</td>\n",
              "    </tr>\n",
              "    <tr>\n",
              "      <th>Infos</th>\n",
              "      <td>0</td>\n",
              "    </tr>\n",
              "  </tbody>\n",
              "</table>\n",
              "</div>"
            ]
          },
          "execution_count": 22,
          "metadata": {},
          "output_type": "execute_result"
        }
      ],
      "execution_count": null
    },
    {
      "metadata": {
        "ExecuteTime": {
          "end_time": "2024-10-17T06:12:50.244598Z",
          "start_time": "2024-10-17T06:12:50.241044Z"
        },
        "id": "9xDkfX6YIvt3"
      },
      "cell_type": "code",
      "source": [
        "plotData2 = pd.DataFrame(\n",
        "    [\n",
        "        # final['total_issues'],\n",
        "        final['standard_non_compliance']['total'],\n",
        "        final['total_issues'] - final['standard_non_compliance']['total']],\n",
        "    columns=['issues'],\n",
        "    index=[\n",
        "        # 'Total',\n",
        "        'Standard NoN Compliance', 'Standard Compliance'])"
      ],
      "outputs": [],
      "execution_count": null
    },
    {
      "metadata": {
        "ExecuteTime": {
          "end_time": "2024-10-17T06:12:50.298347Z",
          "start_time": "2024-10-17T06:12:50.294349Z"
        },
        "id": "y8-3YTD5Ivt3",
        "outputId": "b099226a-5443-4da1-c94e-fb29657f505a"
      },
      "cell_type": "code",
      "source": [
        "plotData2"
      ],
      "outputs": [
        {
          "data": {
            "text/plain": [
              "                         issues\n",
              "Standard NoN Compliance      97\n",
              "Standard Compliance          10"
            ],
            "text/html": [
              "<div>\n",
              "<style scoped>\n",
              "    .dataframe tbody tr th:only-of-type {\n",
              "        vertical-align: middle;\n",
              "    }\n",
              "\n",
              "    .dataframe tbody tr th {\n",
              "        vertical-align: top;\n",
              "    }\n",
              "\n",
              "    .dataframe thead th {\n",
              "        text-align: right;\n",
              "    }\n",
              "</style>\n",
              "<table border=\"1\" class=\"dataframe\">\n",
              "  <thead>\n",
              "    <tr style=\"text-align: right;\">\n",
              "      <th></th>\n",
              "      <th>issues</th>\n",
              "    </tr>\n",
              "  </thead>\n",
              "  <tbody>\n",
              "    <tr>\n",
              "      <th>Standard NoN Compliance</th>\n",
              "      <td>97</td>\n",
              "    </tr>\n",
              "    <tr>\n",
              "      <th>Standard Compliance</th>\n",
              "      <td>10</td>\n",
              "    </tr>\n",
              "  </tbody>\n",
              "</table>\n",
              "</div>"
            ]
          },
          "execution_count": 24,
          "metadata": {},
          "output_type": "execute_result"
        }
      ],
      "execution_count": null
    },
    {
      "metadata": {
        "ExecuteTime": {
          "end_time": "2024-10-17T06:12:50.411057Z",
          "start_time": "2024-10-17T06:12:50.407755Z"
        },
        "id": "lG7wjKqAIvt3"
      },
      "cell_type": "code",
      "source": [
        "plotData3 = pd.DataFrame(\n",
        "    [\n",
        "        final['standard_non_compliance']['oas']['error'],\n",
        "        final['standard_non_compliance']['owasp']['error'],\n",
        "        final['standard_non_compliance']['onepoint']['error'],\n",
        "        final['standard_non_compliance']['others']['error'],\n",
        "        final['standard_non_compliance']['oas']['warning'],\n",
        "        final['standard_non_compliance']['owasp']['warning'],\n",
        "        final['standard_non_compliance']['onepoint']['warning'],\n",
        "        final['standard_non_compliance']['others']['warning'],\n",
        "    ],\n",
        "    columns=['Issues'],\n",
        "    index=[\n",
        "        'OAS Errors', 'OWASP Errors', 'OnePoint Errors', 'Other Errors',\n",
        "        'OAS Warning', 'OWASP Warnings', 'OnePoint Warnings', 'Other Warnings'\n",
        "    ]\n",
        ")"
      ],
      "outputs": [],
      "execution_count": null
    },
    {
      "metadata": {
        "ExecuteTime": {
          "end_time": "2024-10-17T06:12:50.464891Z",
          "start_time": "2024-10-17T06:12:50.459987Z"
        },
        "id": "cQxy_AMuIvt4",
        "outputId": "89e14f76-a7a3-4e07-af7d-71155be9bfc0"
      },
      "cell_type": "code",
      "source": [
        "plotData3"
      ],
      "outputs": [
        {
          "data": {
            "text/plain": [
              "                   Issues\n",
              "OAS Errors              2\n",
              "OWASP Errors           45\n",
              "OnePoint Errors         0\n",
              "Other Errors            0\n",
              "OAS Warning             1\n",
              "OWASP Warnings         49\n",
              "OnePoint Warnings       0\n",
              "Other Warnings         10"
            ],
            "text/html": [
              "<div>\n",
              "<style scoped>\n",
              "    .dataframe tbody tr th:only-of-type {\n",
              "        vertical-align: middle;\n",
              "    }\n",
              "\n",
              "    .dataframe tbody tr th {\n",
              "        vertical-align: top;\n",
              "    }\n",
              "\n",
              "    .dataframe thead th {\n",
              "        text-align: right;\n",
              "    }\n",
              "</style>\n",
              "<table border=\"1\" class=\"dataframe\">\n",
              "  <thead>\n",
              "    <tr style=\"text-align: right;\">\n",
              "      <th></th>\n",
              "      <th>Issues</th>\n",
              "    </tr>\n",
              "  </thead>\n",
              "  <tbody>\n",
              "    <tr>\n",
              "      <th>OAS Errors</th>\n",
              "      <td>2</td>\n",
              "    </tr>\n",
              "    <tr>\n",
              "      <th>OWASP Errors</th>\n",
              "      <td>45</td>\n",
              "    </tr>\n",
              "    <tr>\n",
              "      <th>OnePoint Errors</th>\n",
              "      <td>0</td>\n",
              "    </tr>\n",
              "    <tr>\n",
              "      <th>Other Errors</th>\n",
              "      <td>0</td>\n",
              "    </tr>\n",
              "    <tr>\n",
              "      <th>OAS Warning</th>\n",
              "      <td>1</td>\n",
              "    </tr>\n",
              "    <tr>\n",
              "      <th>OWASP Warnings</th>\n",
              "      <td>49</td>\n",
              "    </tr>\n",
              "    <tr>\n",
              "      <th>OnePoint Warnings</th>\n",
              "      <td>0</td>\n",
              "    </tr>\n",
              "    <tr>\n",
              "      <th>Other Warnings</th>\n",
              "      <td>10</td>\n",
              "    </tr>\n",
              "  </tbody>\n",
              "</table>\n",
              "</div>"
            ]
          },
          "execution_count": 26,
          "metadata": {},
          "output_type": "execute_result"
        }
      ],
      "execution_count": null
    },
    {
      "metadata": {
        "ExecuteTime": {
          "end_time": "2024-10-17T06:12:50.630722Z",
          "start_time": "2024-10-17T06:12:50.627711Z"
        },
        "id": "oF1pSDBRIvt4",
        "outputId": "0a470604-1e65-48e8-a56c-9fd9f8bdfa93"
      },
      "cell_type": "code",
      "source": [
        "final"
      ],
      "outputs": [
        {
          "data": {
            "text/plain": [
              "{'total_issues': 107,\n",
              " 'total_errors': 47,\n",
              " 'total_warnings': 60,\n",
              " 'total_hints': 0,\n",
              " 'total_infos': 0,\n",
              " 'standard_non_compliance': {'oas': {'total': 3,\n",
              "   'error': 2,\n",
              "   'warning': 1,\n",
              "   'infos': 0,\n",
              "   'hints': 0},\n",
              "  'owasp': {'total': 94, 'error': 45, 'warning': 49, 'infos': 0, 'hints': 0},\n",
              "  'onepoint': {'total': 0, 'error': 0, 'warning': 0, 'infos': 0, 'hints': 0},\n",
              "  'others': {'total': 10, 'error': 0, 'warning': 10, 'infos': 0, 'hints': 0},\n",
              "  'total': 97}}"
            ]
          },
          "execution_count": 27,
          "metadata": {},
          "output_type": "execute_result"
        }
      ],
      "execution_count": null
    },
    {
      "metadata": {
        "id": "tA7RJounIvt4"
      },
      "cell_type": "markdown",
      "source": [
        "## Classify"
      ]
    },
    {
      "metadata": {
        "ExecuteTime": {
          "end_time": "2024-10-17T06:12:50.662703Z",
          "start_time": "2024-10-17T06:12:50.659494Z"
        },
        "id": "qW30uDjUIvt4"
      },
      "cell_type": "code",
      "source": [
        "classification_table = df[['code', 'severity']]"
      ],
      "outputs": [],
      "execution_count": null
    },
    {
      "metadata": {
        "id": "1XFfu2KrIvt4"
      },
      "cell_type": "markdown",
      "source": [
        "### API Security Risk\n",
        "\n",
        "#### https://www.veracode.com/blog/research/breaking-down-owasp-top-10-api-security-risks-2023-what-changed-2019\n",
        "#### https://www.akto.io/blog/whats-changed-in-owasp-top-10-2023\n",
        "\n",
        "#### **Standard Non-Compliance**\n",
        "#### **Syntax**\n",
        "#### **Documentation**\n",
        "#### **Code Generation**\n",
        "#### **Other**\n",
        "#### **Critical**\n",
        "**Total number of Issues**\n",
        "\n"
      ]
    },
    {
      "metadata": {
        "ExecuteTime": {
          "end_time": "2024-10-17T06:12:50.834287Z",
          "start_time": "2024-10-17T06:12:50.828712Z"
        },
        "id": "K4oLp75aIvt4",
        "outputId": "ad7562ce-d83b-4d0b-8fdb-a2ddd27e2f38"
      },
      "cell_type": "code",
      "source": [
        "classification_table"
      ],
      "outputs": [
        {
          "data": {
            "text/plain": [
              "                                  code severity\n",
              "0                     oas3-api-servers  warning\n",
              "1                operation-operationId  warning\n",
              "2                operation-tag-defined  warning\n",
              "3         owasp:api4:2023-string-limit    error\n",
              "4    owasp:api4:2023-string-restricted  warning\n",
              "..                                 ...      ...\n",
              "102      owasp:api4:2023-integer-limit    error\n",
              "103       owasp:api4:2023-string-limit    error\n",
              "104  owasp:api4:2023-string-restricted  warning\n",
              "105       owasp:api4:2023-string-limit    error\n",
              "106  owasp:api4:2023-string-restricted  warning\n",
              "\n",
              "[107 rows x 2 columns]"
            ],
            "text/html": [
              "<div>\n",
              "<style scoped>\n",
              "    .dataframe tbody tr th:only-of-type {\n",
              "        vertical-align: middle;\n",
              "    }\n",
              "\n",
              "    .dataframe tbody tr th {\n",
              "        vertical-align: top;\n",
              "    }\n",
              "\n",
              "    .dataframe thead th {\n",
              "        text-align: right;\n",
              "    }\n",
              "</style>\n",
              "<table border=\"1\" class=\"dataframe\">\n",
              "  <thead>\n",
              "    <tr style=\"text-align: right;\">\n",
              "      <th></th>\n",
              "      <th>code</th>\n",
              "      <th>severity</th>\n",
              "    </tr>\n",
              "  </thead>\n",
              "  <tbody>\n",
              "    <tr>\n",
              "      <th>0</th>\n",
              "      <td>oas3-api-servers</td>\n",
              "      <td>warning</td>\n",
              "    </tr>\n",
              "    <tr>\n",
              "      <th>1</th>\n",
              "      <td>operation-operationId</td>\n",
              "      <td>warning</td>\n",
              "    </tr>\n",
              "    <tr>\n",
              "      <th>2</th>\n",
              "      <td>operation-tag-defined</td>\n",
              "      <td>warning</td>\n",
              "    </tr>\n",
              "    <tr>\n",
              "      <th>3</th>\n",
              "      <td>owasp:api4:2023-string-limit</td>\n",
              "      <td>error</td>\n",
              "    </tr>\n",
              "    <tr>\n",
              "      <th>4</th>\n",
              "      <td>owasp:api4:2023-string-restricted</td>\n",
              "      <td>warning</td>\n",
              "    </tr>\n",
              "    <tr>\n",
              "      <th>...</th>\n",
              "      <td>...</td>\n",
              "      <td>...</td>\n",
              "    </tr>\n",
              "    <tr>\n",
              "      <th>102</th>\n",
              "      <td>owasp:api4:2023-integer-limit</td>\n",
              "      <td>error</td>\n",
              "    </tr>\n",
              "    <tr>\n",
              "      <th>103</th>\n",
              "      <td>owasp:api4:2023-string-limit</td>\n",
              "      <td>error</td>\n",
              "    </tr>\n",
              "    <tr>\n",
              "      <th>104</th>\n",
              "      <td>owasp:api4:2023-string-restricted</td>\n",
              "      <td>warning</td>\n",
              "    </tr>\n",
              "    <tr>\n",
              "      <th>105</th>\n",
              "      <td>owasp:api4:2023-string-limit</td>\n",
              "      <td>error</td>\n",
              "    </tr>\n",
              "    <tr>\n",
              "      <th>106</th>\n",
              "      <td>owasp:api4:2023-string-restricted</td>\n",
              "      <td>warning</td>\n",
              "    </tr>\n",
              "  </tbody>\n",
              "</table>\n",
              "<p>107 rows × 2 columns</p>\n",
              "</div>"
            ]
          },
          "execution_count": 29,
          "metadata": {},
          "output_type": "execute_result"
        }
      ],
      "execution_count": null
    },
    {
      "metadata": {
        "ExecuteTime": {
          "end_time": "2024-10-17T06:12:50.866069Z",
          "start_time": "2024-10-17T06:12:50.861990Z"
        },
        "id": "lKCXXpHKIvt4"
      },
      "cell_type": "code",
      "source": [
        "def classify(code, pattern):\n",
        "    return classification_table[\n",
        "        (classification_table['severity'].str.contains(code, case=False)) &\n",
        "        (classification_table['code'].str.contains(pattern, case=False))\n",
        "        ]"
      ],
      "outputs": [],
      "execution_count": null
    },
    {
      "metadata": {
        "id": "65rdu2eYIvt4"
      },
      "cell_type": "markdown",
      "source": [
        "### Map the error count\n",
        "### OWASP: Critical, High Warning, Warning"
      ]
    },
    {
      "metadata": {
        "ExecuteTime": {
          "end_time": "2024-10-17T06:12:50.916751Z",
          "start_time": "2024-10-17T06:12:50.912344Z"
        },
        "id": "4gxueGmsIvt4",
        "outputId": "23b12d38-3ad7-4270-eaba-471d772d3534"
      },
      "cell_type": "code",
      "source": [
        "critical_error_owasp = classify('error', r\"^owasp:api[12345]{1}\")  # OWASP\n",
        "high_warning_owasp = classify('warning', r\"^owasp:api[^12345]{1}\")\n",
        "len(critical_error_owasp), len(high_warning_owasp)  #, len(warning_owasp)"
      ],
      "outputs": [
        {
          "data": {
            "text/plain": [
              "(45, 25)"
            ]
          },
          "execution_count": 31,
          "metadata": {},
          "output_type": "execute_result"
        }
      ],
      "execution_count": null
    },
    {
      "metadata": {
        "ExecuteTime": {
          "end_time": "2024-10-17T06:12:51.020802Z",
          "start_time": "2024-10-17T06:12:51.017757Z"
        },
        "id": "w3yb7jtgIvt5"
      },
      "cell_type": "code",
      "source": [
        "owasp_total = final['standard_non_compliance']['owasp']['total']"
      ],
      "outputs": [],
      "execution_count": null
    },
    {
      "metadata": {
        "ExecuteTime": {
          "end_time": "2024-10-17T06:12:51.071947Z",
          "start_time": "2024-10-17T06:12:51.068301Z"
        },
        "id": "k-rqMq8BIvt5",
        "outputId": "698c7a71-b994-4f97-a8ba-d5397c7f2d61"
      },
      "cell_type": "code",
      "source": [
        "warning_owasp = owasp_total - len(high_warning_owasp) - len(critical_error_owasp)\n",
        "if warning_owasp < 0:\n",
        "    warning_owasp = 0\n",
        "warning_owasp"
      ],
      "outputs": [
        {
          "data": {
            "text/plain": [
              "24"
            ]
          },
          "execution_count": 33,
          "metadata": {},
          "output_type": "execute_result"
        }
      ],
      "execution_count": null
    },
    {
      "metadata": {
        "ExecuteTime": {
          "end_time": "2024-10-17T06:12:51.105953Z",
          "start_time": "2024-10-17T06:12:51.102953Z"
        },
        "id": "vCrPZc9fIvt5"
      },
      "cell_type": "code",
      "source": [
        "# Assign to final data\n",
        "\n",
        "final['standard_non_compliance']['owasp']['critical'] = len(critical_error_owasp)\n",
        "final['standard_non_compliance']['owasp']['high_warning'] = len(high_warning_owasp)\n",
        "final['standard_non_compliance']['owasp']['low_warning'] = warning_owasp"
      ],
      "outputs": [],
      "execution_count": null
    },
    {
      "metadata": {
        "ExecuteTime": {
          "end_time": "2024-10-17T06:12:51.125030Z",
          "start_time": "2024-10-17T06:12:51.121171Z"
        },
        "id": "1P2TwZXkIvt5",
        "outputId": "c624c578-40a7-4e6b-9b8e-3fd3482bbd20"
      },
      "cell_type": "code",
      "source": [
        "# Validate\n",
        "\n",
        "checkOWASP = len(critical_error_owasp) + warning_owasp + len(high_warning_owasp)\n",
        "if checkOWASP == owasp_total:\n",
        "    print('Pass OWASP')\n",
        "else:\n",
        "    print('Fail OWASP')"
      ],
      "outputs": [
        {
          "name": "stdout",
          "output_type": "stream",
          "text": [
            "Pass OWASP\n"
          ]
        }
      ],
      "execution_count": null
    },
    {
      "metadata": {
        "id": "9yjHqSpZIvt5"
      },
      "cell_type": "markdown",
      "source": [
        "### OAS: Critical, High Warning, Warning\n"
      ]
    },
    {
      "metadata": {
        "ExecuteTime": {
          "end_time": "2024-10-17T06:12:51.174569Z",
          "start_time": "2024-10-17T06:12:51.169455Z"
        },
        "id": "TZbFxe-mIvt5",
        "outputId": "141f783e-63d7-4574-a9d0-7ff1c0644f6d"
      },
      "cell_type": "code",
      "source": [
        "critical_error_oas = classify('error', r\"^oas\")  # OAS\n",
        "high_warning_oas = classify('warning', r\"^oas?\")\n",
        "len(critical_error_oas), len(high_warning_oas)"
      ],
      "outputs": [
        {
          "data": {
            "text/plain": [
              "(2, 1)"
            ]
          },
          "execution_count": 36,
          "metadata": {},
          "output_type": "execute_result"
        }
      ],
      "execution_count": null
    },
    {
      "metadata": {
        "ExecuteTime": {
          "end_time": "2024-10-17T06:12:51.204739Z",
          "start_time": "2024-10-17T06:12:51.201228Z"
        },
        "id": "98dZouhwIvt5"
      },
      "cell_type": "code",
      "source": [
        "oas_total = final['standard_non_compliance']['oas']['total']"
      ],
      "outputs": [],
      "execution_count": null
    },
    {
      "metadata": {
        "ExecuteTime": {
          "end_time": "2024-10-17T06:12:51.231932Z",
          "start_time": "2024-10-17T06:12:51.228602Z"
        },
        "id": "KzcNLz5_Ivt5",
        "outputId": "36bb8ae8-761b-4779-a656-08e892494333"
      },
      "cell_type": "code",
      "source": [
        "warning_oas = oas_total - len(high_warning_oas) - len(critical_error_oas)\n",
        "if warning_oas < 0:\n",
        "    warning_oas = 0\n",
        "warning_oas"
      ],
      "outputs": [
        {
          "data": {
            "text/plain": [
              "0"
            ]
          },
          "execution_count": 38,
          "metadata": {},
          "output_type": "execute_result"
        }
      ],
      "execution_count": null
    },
    {
      "metadata": {
        "ExecuteTime": {
          "end_time": "2024-10-17T06:12:51.279278Z",
          "start_time": "2024-10-17T06:12:51.276533Z"
        },
        "id": "HT485J0EIvt5"
      },
      "cell_type": "code",
      "source": [
        "# Assign to final data\n",
        "\n",
        "final['standard_non_compliance']['oas']['critical'] = len(critical_error_oas)\n",
        "final['standard_non_compliance']['oas']['high_warning'] = len(high_warning_oas)\n",
        "final['standard_non_compliance']['oas']['low_warning'] = warning_oas"
      ],
      "outputs": [],
      "execution_count": null
    },
    {
      "metadata": {
        "ExecuteTime": {
          "end_time": "2024-10-17T06:12:51.326297Z",
          "start_time": "2024-10-17T06:12:51.323364Z"
        },
        "id": "yR1kY9dcIvt5",
        "outputId": "2d6f3d5c-2bff-4070-8b61-ed6e4fe92643"
      },
      "cell_type": "code",
      "source": [
        "# Validate\n",
        "\n",
        "checkOAS = len(critical_error_oas) + warning_oas + len(high_warning_oas)\n",
        "if checkOAS == oas_total:\n",
        "    print('Pass OAS')\n",
        "else:\n",
        "    print('Fail OAS')"
      ],
      "outputs": [
        {
          "name": "stdout",
          "output_type": "stream",
          "text": [
            "Pass OAS\n"
          ]
        }
      ],
      "execution_count": null
    },
    {
      "metadata": {
        "id": "mo6Q41BIIvt5"
      },
      "cell_type": "markdown",
      "source": [
        "### Others"
      ]
    },
    {
      "metadata": {
        "ExecuteTime": {
          "end_time": "2024-10-17T06:12:51.351882Z",
          "start_time": "2024-10-17T06:12:51.345860Z"
        },
        "id": "KYm0LSMIIvt5",
        "outputId": "78018360-8118-4037-884c-ebfa81b619fc"
      },
      "cell_type": "code",
      "source": [
        "critical_error_other = classify('error', r\"^(?!(owasp|oas)).*$\")  # Others\n",
        "high_warning_other = classify('warning', r\"^(?!(owasp|oas)).*$\")\n",
        "len(critical_error_other), len(high_warning_other)"
      ],
      "outputs": [
        {
          "name": "stderr",
          "output_type": "stream",
          "text": [
            "C:\\Users\\Onepoint\\AppData\\Local\\Temp\\ipykernel_121036\\1522797524.py:4: UserWarning: This pattern is interpreted as a regular expression, and has match groups. To actually get the groups, use str.extract.\n",
            "  (classification_table['code'].str.contains(pattern, case=False))\n"
          ]
        },
        {
          "data": {
            "text/plain": [
              "(0, 10)"
            ]
          },
          "execution_count": 41,
          "metadata": {},
          "output_type": "execute_result"
        }
      ],
      "execution_count": null
    },
    {
      "metadata": {
        "ExecuteTime": {
          "end_time": "2024-10-17T06:12:51.408236Z",
          "start_time": "2024-10-17T06:12:51.405022Z"
        },
        "id": "TmGLy4rvIvt5"
      },
      "cell_type": "code",
      "source": [
        "other_total = final['standard_non_compliance']['others']['total']"
      ],
      "outputs": [],
      "execution_count": null
    },
    {
      "metadata": {
        "ExecuteTime": {
          "end_time": "2024-10-17T06:12:51.440294Z",
          "start_time": "2024-10-17T06:12:51.437091Z"
        },
        "id": "Gnpe9KefIvt5",
        "outputId": "2c887457-dcb7-4cf7-e823-221d3921bcdf"
      },
      "cell_type": "code",
      "source": [
        "warning_other = other_total - len(high_warning_other) - len(critical_error_other)\n",
        "if warning_other < 0:\n",
        "    warning_other = 0\n",
        "warning_other"
      ],
      "outputs": [
        {
          "data": {
            "text/plain": [
              "0"
            ]
          },
          "execution_count": 43,
          "metadata": {},
          "output_type": "execute_result"
        }
      ],
      "execution_count": null
    },
    {
      "metadata": {
        "ExecuteTime": {
          "end_time": "2024-10-17T06:12:51.467450Z",
          "start_time": "2024-10-17T06:12:51.464301Z"
        },
        "id": "BChb84d3Ivt5"
      },
      "cell_type": "code",
      "source": [
        "# Assign to final data\n",
        "\n",
        "final['standard_non_compliance']['others']['critical'] = len(critical_error_other)\n",
        "final['standard_non_compliance']['others']['high_warning'] = len(high_warning_other)\n",
        "final['standard_non_compliance']['others']['low_warning'] = warning_other"
      ],
      "outputs": [],
      "execution_count": null
    },
    {
      "metadata": {
        "ExecuteTime": {
          "end_time": "2024-10-17T06:12:51.491693Z",
          "start_time": "2024-10-17T06:12:51.487851Z"
        },
        "id": "CcPj89REIvt5",
        "outputId": "7269aa86-ad2b-4e48-c33a-6e2fb37bb79a"
      },
      "cell_type": "code",
      "source": [
        "# Validate\n",
        "\n",
        "checkOthers = len(critical_error_other) + warning_other + len(high_warning_other)\n",
        "if checkOthers == other_total:\n",
        "    print('Pass Others')\n",
        "else:\n",
        "    print('Fail Others')"
      ],
      "outputs": [
        {
          "name": "stdout",
          "output_type": "stream",
          "text": [
            "Pass Others\n"
          ]
        }
      ],
      "execution_count": null
    },
    {
      "metadata": {
        "ExecuteTime": {
          "end_time": "2024-10-17T06:12:51.516747Z",
          "start_time": "2024-10-17T06:12:51.512698Z"
        },
        "id": "8nsV5htzIvt5",
        "outputId": "932cc450-3c3a-474c-b5eb-0652c43a2197"
      },
      "cell_type": "code",
      "source": [
        "final"
      ],
      "outputs": [
        {
          "data": {
            "text/plain": [
              "{'total_issues': 107,\n",
              " 'total_errors': 47,\n",
              " 'total_warnings': 60,\n",
              " 'total_hints': 0,\n",
              " 'total_infos': 0,\n",
              " 'standard_non_compliance': {'oas': {'total': 3,\n",
              "   'error': 2,\n",
              "   'warning': 1,\n",
              "   'infos': 0,\n",
              "   'hints': 0,\n",
              "   'critical': 2,\n",
              "   'high_warning': 1,\n",
              "   'low_warning': 0},\n",
              "  'owasp': {'total': 94,\n",
              "   'error': 45,\n",
              "   'warning': 49,\n",
              "   'infos': 0,\n",
              "   'hints': 0,\n",
              "   'critical': 45,\n",
              "   'high_warning': 25,\n",
              "   'low_warning': 24},\n",
              "  'onepoint': {'total': 0, 'error': 0, 'warning': 0, 'infos': 0, 'hints': 0},\n",
              "  'others': {'total': 10,\n",
              "   'error': 0,\n",
              "   'warning': 10,\n",
              "   'infos': 0,\n",
              "   'hints': 0,\n",
              "   'critical': 0,\n",
              "   'high_warning': 10,\n",
              "   'low_warning': 0},\n",
              "  'total': 97}}"
            ]
          },
          "execution_count": 46,
          "metadata": {},
          "output_type": "execute_result"
        }
      ],
      "execution_count": null
    },
    {
      "metadata": {
        "id": "ebwRS_BzIvt6"
      },
      "cell_type": "markdown",
      "source": [
        "## Major HTTP code, methods"
      ]
    },
    {
      "metadata": {
        "id": "4U2eTN1j2az5",
        "ExecuteTime": {
          "end_time": "2024-10-17T06:12:51.554015Z",
          "start_time": "2024-10-17T06:12:51.549914Z"
        }
      },
      "cell_type": "code",
      "source": [
        "http_verbs_methods = df['path'].apply(lambda x: x[2] if isinstance(x, list) and len(x) >= 3 else None)"
      ],
      "outputs": [],
      "execution_count": null
    },
    {
      "metadata": {
        "ExecuteTime": {
          "end_time": "2024-10-17T06:12:51.588390Z",
          "start_time": "2024-10-17T06:12:51.585376Z"
        },
        "id": "z2CxBjl9Ivt6"
      },
      "cell_type": "code",
      "source": [
        "# remove NONE\n",
        "http_verbs_methods = http_verbs_methods.drop(0)"
      ],
      "outputs": [],
      "execution_count": null
    },
    {
      "metadata": {
        "ExecuteTime": {
          "end_time": "2024-10-17T06:12:51.618902Z",
          "start_time": "2024-10-17T06:12:51.614283Z"
        },
        "id": "30AbX_COIvt6",
        "outputId": "8262f2ea-d3a1-4156-a9ef-9752109b61d2"
      },
      "cell_type": "code",
      "source": [
        "http_verbs_methods"
      ],
      "outputs": [
        {
          "data": {
            "text/plain": [
              "1               post\n",
              "2               post\n",
              "3               post\n",
              "4               post\n",
              "5               post\n",
              "           ...      \n",
              "102    LedgerAccount\n",
              "103      SOAPRequest\n",
              "104      SOAPRequest\n",
              "105     SOAPResponse\n",
              "106     SOAPResponse\n",
              "Name: path, Length: 106, dtype: object"
            ]
          },
          "execution_count": 49,
          "metadata": {},
          "output_type": "execute_result"
        }
      ],
      "execution_count": null
    },
    {
      "metadata": {
        "ExecuteTime": {
          "end_time": "2024-10-17T06:12:51.654308Z",
          "start_time": "2024-10-17T06:12:51.651264Z"
        },
        "id": "-8BVzt3TIvt6"
      },
      "cell_type": "code",
      "source": [
        "# HTTP Code - Count\n",
        "https = http_verbs_methods.value_counts().to_dict()"
      ],
      "outputs": [],
      "execution_count": null
    },
    {
      "metadata": {
        "ExecuteTime": {
          "end_time": "2024-10-17T06:12:51.694370Z",
          "start_time": "2024-10-17T06:12:51.690934Z"
        },
        "id": "yYuTVzhRIvt6"
      },
      "cell_type": "code",
      "source": [
        "final['total_critical'] = len(critical_error_owasp) + len(critical_error_oas) + len(critical_error_other)\n",
        "final['total_high_warning'] = len(high_warning_owasp) + len(high_warning_oas) + len(high_warning_other)\n",
        "final['total_low_warning'] = warning_owasp + warning_oas + warning_other\n",
        "final['HTTP_POST'] = https.get('post', 0)\n",
        "final['HTTP_GET'] = https.get('get', 0)\n",
        "final['HTTP_PUT'] = https.get('put', 0)\n",
        "final['HTTP_PATCH'] = https.get('patch', 0)\n",
        "final['HTTP_DELETE'] = https.get('delete', 0)\n",
        "final['HTTP_HEAD'] = https.get('head', 0)\n",
        "final['HTTP_OPTIONS'] = https.get('options', 0)"
      ],
      "outputs": [],
      "execution_count": null
    },
    {
      "metadata": {
        "ExecuteTime": {
          "end_time": "2024-10-17T06:12:51.838130Z",
          "start_time": "2024-10-17T06:12:51.834141Z"
        },
        "id": "ldo8uR7qIvt6",
        "outputId": "a3cc5f72-3deb-4253-ec96-720176332c28"
      },
      "cell_type": "code",
      "source": [
        "final"
      ],
      "outputs": [
        {
          "data": {
            "text/plain": [
              "{'total_issues': 107,\n",
              " 'total_errors': 47,\n",
              " 'total_warnings': 60,\n",
              " 'total_hints': 0,\n",
              " 'total_infos': 0,\n",
              " 'standard_non_compliance': {'oas': {'total': 3,\n",
              "   'error': 2,\n",
              "   'warning': 1,\n",
              "   'infos': 0,\n",
              "   'hints': 0,\n",
              "   'critical': 2,\n",
              "   'high_warning': 1,\n",
              "   'low_warning': 0},\n",
              "  'owasp': {'total': 94,\n",
              "   'error': 45,\n",
              "   'warning': 49,\n",
              "   'infos': 0,\n",
              "   'hints': 0,\n",
              "   'critical': 45,\n",
              "   'high_warning': 25,\n",
              "   'low_warning': 24},\n",
              "  'onepoint': {'total': 0, 'error': 0, 'warning': 0, 'infos': 0, 'hints': 0},\n",
              "  'others': {'total': 10,\n",
              "   'error': 0,\n",
              "   'warning': 10,\n",
              "   'infos': 0,\n",
              "   'hints': 0,\n",
              "   'critical': 0,\n",
              "   'high_warning': 10,\n",
              "   'low_warning': 0},\n",
              "  'total': 97},\n",
              " 'total_critical': 47,\n",
              " 'total_high_warning': 36,\n",
              " 'total_low_warning': 24,\n",
              " 'HTTP_POST': 36,\n",
              " 'HTTP_GET': 34,\n",
              " 'HTTP_PUT': 0,\n",
              " 'HTTP_PATCH': 0,\n",
              " 'HTTP_DELETE': 0,\n",
              " 'HTTP_HEAD': 0,\n",
              " 'HTTP_OPTIONS': 0}"
            ]
          },
          "execution_count": 52,
          "metadata": {},
          "output_type": "execute_result"
        }
      ],
      "execution_count": null
    },
    {
      "metadata": {
        "ExecuteTime": {
          "end_time": "2024-10-17T06:12:51.889090Z",
          "start_time": "2024-10-17T06:12:51.883028Z"
        },
        "id": "LofW2u4xIvt6",
        "outputId": "30ae58bd-cd64-4560-d071-fa85d1baa57a"
      },
      "cell_type": "code",
      "source": [
        "import json\n",
        "\n",
        "json_string = json.dumps(final)\n",
        "with open(\"governance_report.json\", \"w\") as f:\n",
        "    f.write(json_string)\n",
        "\n",
        "print(json_string)"
      ],
      "outputs": [
        {
          "name": "stdout",
          "output_type": "stream",
          "text": [
            "{\"total_issues\": 107, \"total_errors\": 47, \"total_warnings\": 60, \"total_hints\": 0, \"total_infos\": 0, \"standard_non_compliance\": {\"oas\": {\"total\": 3, \"error\": 2, \"warning\": 1, \"infos\": 0, \"hints\": 0, \"critical\": 2, \"high_warning\": 1, \"low_warning\": 0}, \"owasp\": {\"total\": 94, \"error\": 45, \"warning\": 49, \"infos\": 0, \"hints\": 0, \"critical\": 45, \"high_warning\": 25, \"low_warning\": 24}, \"onepoint\": {\"total\": 0, \"error\": 0, \"warning\": 0, \"infos\": 0, \"hints\": 0}, \"others\": {\"total\": 10, \"error\": 0, \"warning\": 10, \"infos\": 0, \"hints\": 0, \"critical\": 0, \"high_warning\": 10, \"low_warning\": 0}, \"total\": 97}, \"total_critical\": 47, \"total_high_warning\": 36, \"total_low_warning\": 24, \"HTTP_POST\": 36, \"HTTP_GET\": 34, \"HTTP_PUT\": 0, \"HTTP_PATCH\": 0, \"HTTP_DELETE\": 0, \"HTTP_HEAD\": 0, \"HTTP_OPTIONS\": 0}\n"
          ]
        }
      ],
      "execution_count": null
    },
    {
      "metadata": {
        "id": "kTRt6z3FIvt6"
      },
      "cell_type": "markdown",
      "source": [
        "# Reporting"
      ]
    },
    {
      "metadata": {
        "ExecuteTime": {
          "end_time": "2024-10-17T06:12:51.942442Z",
          "start_time": "2024-10-17T06:12:51.939595Z"
        },
        "id": "AAPMGU17Ivt6"
      },
      "cell_type": "code",
      "source": [
        "import matplotlib.pyplot as plt\n",
        "import numpy as np"
      ],
      "outputs": [],
      "execution_count": null
    },
    {
      "metadata": {
        "ExecuteTime": {
          "end_time": "2024-10-17T06:12:52.041160Z",
          "start_time": "2024-10-17T06:12:51.946463Z"
        },
        "id": "kFcEu9_rIvt6",
        "outputId": "0e32250a-7161-4c6e-ba05-1392b7422ce9"
      },
      "cell_type": "code",
      "source": [
        "# Data from governance_report.json\n",
        "http_methods = {\n",
        "    \"HTTP_POST\": 36,\n",
        "    \"HTTP_GET\": 34,\n",
        "    \"HTTP_PUT\": 0,\n",
        "    \"HTTP_PATCH\": 0,\n",
        "    \"HTTP_DELETE\": 0,\n",
        "    \"HTTP_HEAD\": 0,\n",
        "    \"HTTP_OPTIONS\": 0,\n",
        "}\n",
        "\n",
        "methods = list(http_methods.keys())\n",
        "counts = list(http_methods.values())\n",
        "\n",
        "plt.plot(methods, counts, marker=\"o\", linestyle=\"-\", color=\"b\")\n",
        "plt.title(\"Distribution of HTTP Methods\")\n",
        "plt.xlabel(\"HTTP Methods\")\n",
        "plt.ylabel(\"Counts\")\n",
        "plt.grid(True)\n",
        "plt.show()"
      ],
      "outputs": [
        {
          "data": {
            "text/plain": [
              "<Figure size 640x480 with 1 Axes>"
            ],
            "image/png": "[encoded data removed]"
          },
          "metadata": {},
          "output_type": "display_data"
        }
      ],
      "execution_count": null
    },
    {
      "metadata": {
        "ExecuteTime": {
          "end_time": "2024-10-17T06:12:52.145218Z",
          "start_time": "2024-10-17T06:12:52.053646Z"
        },
        "id": "L3Eg1JChIvt6",
        "outputId": "e064a6e1-4214-484c-a2c9-f02301441416"
      },
      "cell_type": "code",
      "source": [
        "compliance_data = {\n",
        "    \"oas\": {\n",
        "        \"total\": 3,\n",
        "        \"error\": 2,\n",
        "        \"warning\": 1,\n",
        "        \"infos\": 0,\n",
        "        \"hints\": 0,\n",
        "        \"critical\": 2,\n",
        "        \"high_warning\": 1,\n",
        "        \"low_warning\": 0,\n",
        "    },\n",
        "    \"owasp\": {\n",
        "        \"total\": 94,\n",
        "        \"error\": 45,\n",
        "        \"warning\": 49,\n",
        "        \"infos\": 0,\n",
        "        \"hints\": 0,\n",
        "        \"critical\": 45,\n",
        "        \"high_warning\": 25,\n",
        "        \"low_warning\": 24,\n",
        "    },\n",
        "    \"onepoint\": {\"total\": 0, \"error\": 0, \"warning\": 0, \"infos\": 0, \"hints\": 0},\n",
        "    \"others\": {\n",
        "        \"total\": 10,\n",
        "        \"error\": 0,\n",
        "        \"warning\": 10,\n",
        "        \"infos\": 0,\n",
        "        \"hints\": 0,\n",
        "        \"critical\": 0,\n",
        "        \"high_warning\": 10,\n",
        "        \"low_warning\": 0,\n",
        "    },\n",
        "}\n",
        "\n",
        "labels = list(compliance_data.keys())\n",
        "total = [compliance_data[key][\"total\"] for key in compliance_data]\n",
        "errors = [compliance_data[key][\"error\"] for key in compliance_data]\n",
        "warnings = [compliance_data[key][\"warning\"] for key in compliance_data]\n",
        "\n",
        "x = np.arange(len(labels))  # the label locations\n",
        "width = 0.25  # the width of the bars\n",
        "\n",
        "fig, ax = plt.subplots()\n",
        "rects1 = ax.bar(x - width / 2, total, width, label=\"Total\")\n",
        "rects2 = ax.bar(x + width / 2, errors, width, label=\"Errors\", color=\"r\")\n",
        "rects3 = ax.bar(x + 1.5 * width, warnings, width, label=\"Warnings\", color=\"y\")\n",
        "\n",
        "# Add some text for labels, title and custom x-axis tick labels, etc.\n",
        "ax.set_xlabel(\"Standards\")\n",
        "ax.set_ylabel(\"Counts\")\n",
        "ax.set_title(\"Standard Non-Compliance\")\n",
        "ax.set_xticks(x)\n",
        "ax.set_xticklabels(labels)\n",
        "ax.legend()\n",
        "\n",
        "fig.tight_layout()\n",
        "\n",
        "plt.show()"
      ],
      "outputs": [
        {
          "data": {
            "text/plain": [
              "<Figure size 640x480 with 1 Axes>"
            ],
            "image/png": "[encoded data removed]"
          },
          "metadata": {},
          "output_type": "display_data"
        }
      ],
      "execution_count": null
    },
    {
      "metadata": {
        "ExecuteTime": {
          "end_time": "2024-10-17T06:12:52.165620Z",
          "start_time": "2024-10-17T06:12:52.163542Z"
        },
        "id": "ZP6ZiuOAIvt6"
      },
      "cell_type": "code",
      "source": [],
      "outputs": [],
      "execution_count": null
    },
    {
      "metadata": {
        "ExecuteTime": {
          "end_time": "2024-10-17T06:12:52.251937Z",
          "start_time": "2024-10-17T06:12:52.183493Z"
        },
        "id": "HNHLaVgQIvt6",
        "outputId": "08d186be-f644-4b91-ad4d-3288b90815d8"
      },
      "cell_type": "code",
      "source": [
        "data = {\n",
        "    \"total_issues\": 107,\n",
        "    \"total_errors\": 47,\n",
        "    \"total_warnings\": 60,\n",
        "    \"total_hints\": 0,\n",
        "    \"total_infos\": 0,\n",
        "}\n",
        "\n",
        "labels = [\"Errors\", \"Warnings\", \"Hints\", \"Infos\"]\n",
        "sizes = [\n",
        "    data[\"total_errors\"],\n",
        "    data[\"total_warnings\"],\n",
        "    data[\"total_hints\"],\n",
        "    data[\"total_infos\"],\n",
        "]\n",
        "colors = [\"#ff9999\", \"#66b3ff\", \"#99ff99\", \"#ffcc99\"]\n",
        "explode = (0.1, 0, 0, 0)  # explode the 1st slice\n",
        "\n",
        "plt.pie(\n",
        "    sizes,\n",
        "    explode=explode,\n",
        "    labels=labels,\n",
        "    colors=colors,\n",
        "    autopct=\"%1.1f%%\",\n",
        "    shadow=True,\n",
        "    startangle=140,\n",
        ")\n",
        "plt.title(\"Distribution of Issue Types\")\n",
        "plt.axis(\"equal\")  # Equal aspect ratio ensures that pie is drawn as a circle.\n",
        "plt.show()"
      ],
      "outputs": [
        {
          "data": {
            "text/plain": [
              "<Figure size 640x480 with 1 Axes>"
            ],
            "image/png": "[encoded data removed]"
          },
          "metadata": {},
          "output_type": "display_data"
        }
      ],
      "execution_count": null
    },
    {
      "metadata": {
        "ExecuteTime": {
          "end_time": "2024-10-17T06:12:52.271550Z",
          "start_time": "2024-10-17T06:12:52.268387Z"
        },
        "id": "HqTV5b8mIvt6"
      },
      "cell_type": "code",
      "source": [
        "import seaborn as sns"
      ],
      "outputs": [],
      "execution_count": null
    },
    {
      "metadata": {
        "ExecuteTime": {
          "end_time": "2024-10-17T06:12:52.391169Z",
          "start_time": "2024-10-17T06:12:52.300440Z"
        },
        "id": "tAXbB14pIvt6",
        "outputId": "b9b02780-3aab-41a8-b6d3-3b3eb688abd3"
      },
      "cell_type": "code",
      "source": [
        "# Data from governance_report.json\n",
        "http_methods = {\n",
        "    \"HTTP_POST\": 36,\n",
        "    \"HTTP_GET\": 34,\n",
        "    \"HTTP_PUT\": 0,\n",
        "    \"HTTP_PATCH\": 0,\n",
        "    \"HTTP_DELETE\": 0,\n",
        "    \"HTTP_HEAD\": 0,\n",
        "    \"HTTP_OPTIONS\": 0,\n",
        "}\n",
        "\n",
        "methods = list(http_methods.keys())\n",
        "counts = list(http_methods.values())\n",
        "\n",
        "# Create DataFrame\n",
        "df_http_methods = pd.DataFrame({\"HTTP Method\": methods, \"Counts\": counts})\n",
        "\n",
        "# Plot\n",
        "http_methods_plot = sns.lineplot(\n",
        "    x=\"HTTP Method\",\n",
        "    y=\"Counts\",\n",
        "    marker=\"o\",\n",
        "    data=df_http_methods,\n",
        "    sort=False,\n",
        "    palette=\"coolwarm\",\n",
        ")\n",
        "http_methods_plot.set_title(\"Distribution of HTTP Methods\")\n",
        "plt.show()\n"
      ],
      "outputs": [
        {
          "name": "stderr",
          "output_type": "stream",
          "text": [
            "C:\\Users\\Onepoint\\AppData\\Local\\Temp\\ipykernel_121036\\4269776864.py:19: UserWarning: Ignoring `palette` because no `hue` variable has been assigned.\n",
            "  http_methods_plot = sns.lineplot(\n"
          ]
        },
        {
          "data": {
            "text/plain": [
              "<Figure size 640x480 with 1 Axes>"
            ],
            "image/png": "[encoded data removed]"
          },
          "metadata": {},
          "output_type": "display_data"
        }
      ],
      "execution_count": null
    },
    {
      "metadata": {
        "ExecuteTime": {
          "end_time": "2024-10-17T06:12:52.492076Z",
          "start_time": "2024-10-17T06:12:52.406583Z"
        },
        "id": "QyAfUIHCIvt6",
        "outputId": "75c51298-5d65-47aa-bdc9-49cd64c286e1"
      },
      "cell_type": "code",
      "source": [
        "# Data from governance_report.json\n",
        "compliance_data = {\n",
        "    \"oas\": {\n",
        "        \"total\": 3,\n",
        "        \"error\": 2,\n",
        "        \"warning\": 1,\n",
        "        \"infos\": 0,\n",
        "        \"hints\": 0,\n",
        "        \"critical\": 2,\n",
        "        \"high_warning\": 1,\n",
        "        \"low_warning\": 0,\n",
        "    },\n",
        "    \"owasp\": {\n",
        "        \"total\": 94,\n",
        "        \"error\": 45,\n",
        "        \"warning\": 49,\n",
        "        \"infos\": 0,\n",
        "        \"hints\": 0,\n",
        "        \"critical\": 45,\n",
        "        \"high_warning\": 25,\n",
        "        \"low_warning\": 24,\n",
        "    },\n",
        "    \"onepoint\": {\"total\": 0, \"error\": 0, \"warning\": 0, \"infos\": 0, \"hints\": 0},\n",
        "    \"others\": {\n",
        "        \"total\": 10,\n",
        "        \"error\": 0,\n",
        "        \"warning\": 10,\n",
        "        \"infos\": 0,\n",
        "        \"hints\": 0,\n",
        "        \"critical\": 0,\n",
        "        \"high_warning\": 10,\n",
        "        \"low_warning\": 0,\n",
        "    },\n",
        "}\n",
        "\n",
        "data_for_df = []\n",
        "for key, value in compliance_data.items():\n",
        "    data_for_df.append([key, value[\"total\"], \"Total\"])\n",
        "    data_for_df.append([key, value[\"error\"], \"Errors\"])\n",
        "    data_for_df.append([key, value[\"warning\"], \"Warnings\"])\n",
        "\n",
        "df_compliance = pd.DataFrame(data_for_df, columns=[\"Standard\", \"Count\", \"Type\"])\n",
        "\n",
        "# Plot\n",
        "sns.set(style=\"darkgrid\")\n",
        "\n",
        "line_plot = sns.lineplot(\n",
        "    x=\"Standard\",\n",
        "    y=\"Count\",\n",
        "    hue=\"Type\",\n",
        "    style=\"Type\",\n",
        "    markers=True,\n",
        "    dashes=False,\n",
        "    palette=\"Set1\",\n",
        "    data=df_compliance,\n",
        ")\n",
        "line_plot.set_title(\"Standard Non-Compliance Distribution\")\n",
        "plt.show()\n"
      ],
      "outputs": [
        {
          "data": {
            "text/plain": [
              "<Figure size 640x480 with 1 Axes>"
            ],
            "image/png": "[encoded data removed]"
          },
          "metadata": {},
          "output_type": "display_data"
        }
      ],
      "execution_count": null
    },
    {
      "metadata": {
        "ExecuteTime": {
          "end_time": "2024-10-17T06:13:36.965948Z",
          "start_time": "2024-10-17T06:13:36.901659Z"
        },
        "id": "H34yJQyZIvt6",
        "outputId": "5b054cef-bad6-4d77-a151-242013d8781f"
      },
      "cell_type": "code",
      "source": [
        "# Data from governance_report.json\n",
        "data = {\n",
        "    \"total_issues\": 107,\n",
        "    \"total_errors\": 47,\n",
        "    \"total_warnings\": 60,\n",
        "    \"total_hints\": 0,\n",
        "    \"total_infos\": 0,\n",
        "}\n",
        "\n",
        "labels = [\"Errors\", \"Warnings\", \"Hints\", \"Infos\"]\n",
        "counts = [\n",
        "    data[\"total_errors\"],\n",
        "    data[\"total_warnings\"],\n",
        "    data[\"total_hints\"],\n",
        "    data[\"total_infos\"],\n",
        "]\n",
        "\n",
        "# Create DataFrame\n",
        "df_issues = pd.DataFrame({\"Issue Type\": labels, \"Counts\": counts})\n",
        "\n",
        "# Plot\n",
        "sns.set(style=\"whitegrid\")\n",
        "bar_plot = sns.barplot(x=\"Issue Type\", y=\"Counts\", data=df_issues, palette=\"muted\")\n",
        "bar_plot.set_title(\"Distribution of Issue Types\")\n",
        "plt.show()\n"
      ],
      "outputs": [
        {
          "name": "stderr",
          "output_type": "stream",
          "text": [
            "C:\\Users\\Onepoint\\AppData\\Local\\Temp\\ipykernel_121036\\2229872025.py:23: FutureWarning: \n",
            "\n",
            "Passing `palette` without assigning `hue` is deprecated and will be removed in v0.14.0. Assign the `x` variable to `hue` and set `legend=False` for the same effect.\n",
            "\n",
            "  bar_plot = sns.barplot(x=\"Issue Type\", y=\"Counts\", data=df_issues, palette=\"muted\")\n"
          ]
        },
        {
          "data": {
            "text/plain": [
              "<Figure size 640x480 with 1 Axes>"
            ],
            "image/png": "[encoded data removed]"
          },
          "metadata": {},
          "output_type": "display_data"
        }
      ],
      "execution_count": null
    }
  ]
}